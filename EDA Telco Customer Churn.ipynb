{
  "nbformat": 4,
  "nbformat_minor": 0,
  "metadata": {
    "colab": {
      "name": "Tugas day 15 - Cecilia Wijaya.ipynb",
      "provenance": []
    },
    "kernelspec": {
      "name": "python3",
      "display_name": "Python 3"
    },
    "language_info": {
      "name": "python"
    }
  },
  "cells": [
    {
      "cell_type": "code",
      "metadata": {
        "id": "9eIKqr-8yqqm"
      },
      "source": [
        "import pandas as pd\n",
        "import numpy as np\n",
        "import re\n",
        "\n",
        "import matplotlib.pyplot as plt\n",
        "import seaborn as sns\n",
        "sns.set()"
      ],
      "execution_count": null,
      "outputs": []
    },
    {
      "cell_type": "code",
      "metadata": {
        "colab": {
          "resources": {
            "http://localhost:8080/nbextensions/google.colab/files.js": {
              "data": "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",
              "ok": true,
              "headers": [
                [
                  "content-type",
                  "application/javascript"
                ]
              ],
              "status": 200,
              "status_text": ""
            }
          },
          "base_uri": "https://localhost:8080/",
          "height": 55
        },
        "id": "hlUJqpus0nEp",
        "outputId": "b3d6f44b-6b3f-4643-d996-0ecc0afeb50d"
      },
      "source": [
        "from google.colab import files\n",
        "uploaded = files.upload()"
      ],
      "execution_count": null,
      "outputs": [
        {
          "output_type": "display_data",
          "data": {
            "text/html": [
              "\n",
              "     <input type=\"file\" id=\"files-6c40b61d-5f16-471c-a919-a29f50e8b6d8\" name=\"files[]\" multiple disabled\n",
              "        style=\"border:none\" />\n",
              "     <output id=\"result-6c40b61d-5f16-471c-a919-a29f50e8b6d8\">\n",
              "      Upload widget is only available when the cell has been executed in the\n",
              "      current browser session. Please rerun this cell to enable.\n",
              "      </output>\n",
              "      <script src=\"/nbextensions/google.colab/files.js\"></script> "
            ],
            "text/plain": [
              "<IPython.core.display.HTML object>"
            ]
          },
          "metadata": {}
        },
        {
          "output_type": "stream",
          "name": "stdout",
          "text": [
            "Saving Telco Customer Churn.csv to Telco Customer Churn.csv\n"
          ]
        }
      ]
    },
    {
      "cell_type": "code",
      "metadata": {
        "id": "KeFVBWaiRzIy"
      },
      "source": [
        "Initial EDA"
      ],
      "execution_count": null,
      "outputs": []
    },
    {
      "cell_type": "code",
      "metadata": {
        "colab": {
          "base_uri": "https://localhost:8080/",
          "height": 313
        },
        "id": "a9-pR6351pzV",
        "outputId": "650967c9-573a-4144-fd83-3ce198939e84"
      },
      "source": [
        "df=pd.read_csv('Telco Customer Churn.csv' ,encoding ='latin')\n",
        "df.head()"
      ],
      "execution_count": null,
      "outputs": [
        {
          "output_type": "execute_result",
          "data": {
            "text/html": [
              "<div>\n",
              "<style scoped>\n",
              "    .dataframe tbody tr th:only-of-type {\n",
              "        vertical-align: middle;\n",
              "    }\n",
              "\n",
              "    .dataframe tbody tr th {\n",
              "        vertical-align: top;\n",
              "    }\n",
              "\n",
              "    .dataframe thead th {\n",
              "        text-align: right;\n",
              "    }\n",
              "</style>\n",
              "<table border=\"1\" class=\"dataframe\">\n",
              "  <thead>\n",
              "    <tr style=\"text-align: right;\">\n",
              "      <th></th>\n",
              "      <th>customerID</th>\n",
              "      <th>gender</th>\n",
              "      <th>SeniorCitizen</th>\n",
              "      <th>Partner</th>\n",
              "      <th>Dependents</th>\n",
              "      <th>tenure</th>\n",
              "      <th>PhoneService</th>\n",
              "      <th>MultipleLines</th>\n",
              "      <th>InternetService</th>\n",
              "      <th>OnlineSecurity</th>\n",
              "      <th>OnlineBackup</th>\n",
              "      <th>DeviceProtection</th>\n",
              "      <th>TechSupport</th>\n",
              "      <th>StreamingTV</th>\n",
              "      <th>StreamingMovies</th>\n",
              "      <th>Contract</th>\n",
              "      <th>PaperlessBilling</th>\n",
              "      <th>PaymentMethod</th>\n",
              "      <th>MonthlyCharges</th>\n",
              "      <th>TotalCharges</th>\n",
              "      <th>Churn</th>\n",
              "    </tr>\n",
              "  </thead>\n",
              "  <tbody>\n",
              "    <tr>\n",
              "      <th>0</th>\n",
              "      <td>7590-VHVEG</td>\n",
              "      <td>Female</td>\n",
              "      <td>0</td>\n",
              "      <td>Yes</td>\n",
              "      <td>No</td>\n",
              "      <td>1</td>\n",
              "      <td>No</td>\n",
              "      <td>No phone service</td>\n",
              "      <td>DSL</td>\n",
              "      <td>No</td>\n",
              "      <td>Yes</td>\n",
              "      <td>No</td>\n",
              "      <td>No</td>\n",
              "      <td>No</td>\n",
              "      <td>No</td>\n",
              "      <td>Month-to-month</td>\n",
              "      <td>Yes</td>\n",
              "      <td>Electronic check</td>\n",
              "      <td>29.85</td>\n",
              "      <td>29.85</td>\n",
              "      <td>No</td>\n",
              "    </tr>\n",
              "    <tr>\n",
              "      <th>1</th>\n",
              "      <td>5575-GNVDE</td>\n",
              "      <td>Male</td>\n",
              "      <td>0</td>\n",
              "      <td>No</td>\n",
              "      <td>No</td>\n",
              "      <td>34</td>\n",
              "      <td>Yes</td>\n",
              "      <td>No</td>\n",
              "      <td>DSL</td>\n",
              "      <td>Yes</td>\n",
              "      <td>No</td>\n",
              "      <td>Yes</td>\n",
              "      <td>No</td>\n",
              "      <td>No</td>\n",
              "      <td>No</td>\n",
              "      <td>One year</td>\n",
              "      <td>No</td>\n",
              "      <td>Mailed check</td>\n",
              "      <td>56.95</td>\n",
              "      <td>1889.5</td>\n",
              "      <td>No</td>\n",
              "    </tr>\n",
              "    <tr>\n",
              "      <th>2</th>\n",
              "      <td>3668-QPYBK</td>\n",
              "      <td>Male</td>\n",
              "      <td>0</td>\n",
              "      <td>No</td>\n",
              "      <td>No</td>\n",
              "      <td>2</td>\n",
              "      <td>Yes</td>\n",
              "      <td>No</td>\n",
              "      <td>DSL</td>\n",
              "      <td>Yes</td>\n",
              "      <td>Yes</td>\n",
              "      <td>No</td>\n",
              "      <td>No</td>\n",
              "      <td>No</td>\n",
              "      <td>No</td>\n",
              "      <td>Month-to-month</td>\n",
              "      <td>Yes</td>\n",
              "      <td>Mailed check</td>\n",
              "      <td>53.85</td>\n",
              "      <td>108.15</td>\n",
              "      <td>Yes</td>\n",
              "    </tr>\n",
              "    <tr>\n",
              "      <th>3</th>\n",
              "      <td>7795-CFOCW</td>\n",
              "      <td>Male</td>\n",
              "      <td>0</td>\n",
              "      <td>No</td>\n",
              "      <td>No</td>\n",
              "      <td>45</td>\n",
              "      <td>No</td>\n",
              "      <td>No phone service</td>\n",
              "      <td>DSL</td>\n",
              "      <td>Yes</td>\n",
              "      <td>No</td>\n",
              "      <td>Yes</td>\n",
              "      <td>Yes</td>\n",
              "      <td>No</td>\n",
              "      <td>No</td>\n",
              "      <td>One year</td>\n",
              "      <td>No</td>\n",
              "      <td>Bank transfer (automatic)</td>\n",
              "      <td>42.30</td>\n",
              "      <td>1840.75</td>\n",
              "      <td>No</td>\n",
              "    </tr>\n",
              "    <tr>\n",
              "      <th>4</th>\n",
              "      <td>9237-HQITU</td>\n",
              "      <td>Female</td>\n",
              "      <td>0</td>\n",
              "      <td>No</td>\n",
              "      <td>No</td>\n",
              "      <td>2</td>\n",
              "      <td>Yes</td>\n",
              "      <td>No</td>\n",
              "      <td>Fiber optic</td>\n",
              "      <td>No</td>\n",
              "      <td>No</td>\n",
              "      <td>No</td>\n",
              "      <td>No</td>\n",
              "      <td>No</td>\n",
              "      <td>No</td>\n",
              "      <td>Month-to-month</td>\n",
              "      <td>Yes</td>\n",
              "      <td>Electronic check</td>\n",
              "      <td>70.70</td>\n",
              "      <td>151.65</td>\n",
              "      <td>Yes</td>\n",
              "    </tr>\n",
              "  </tbody>\n",
              "</table>\n",
              "</div>"
            ],
            "text/plain": [
              "   customerID  gender  SeniorCitizen  ... MonthlyCharges TotalCharges  Churn\n",
              "0  7590-VHVEG  Female              0  ...          29.85        29.85     No\n",
              "1  5575-GNVDE    Male              0  ...          56.95       1889.5     No\n",
              "2  3668-QPYBK    Male              0  ...          53.85       108.15    Yes\n",
              "3  7795-CFOCW    Male              0  ...          42.30      1840.75     No\n",
              "4  9237-HQITU  Female              0  ...          70.70       151.65    Yes\n",
              "\n",
              "[5 rows x 21 columns]"
            ]
          },
          "metadata": {},
          "execution_count": 103
        }
      ]
    },
    {
      "cell_type": "code",
      "metadata": {
        "colab": {
          "base_uri": "https://localhost:8080/"
        },
        "id": "c9nyJNoI1-dW",
        "outputId": "58cc5e88-06ad-4bac-fffa-ab38b2331b34"
      },
      "source": [
        "df.info()"
      ],
      "execution_count": null,
      "outputs": [
        {
          "output_type": "stream",
          "name": "stdout",
          "text": [
            "<class 'pandas.core.frame.DataFrame'>\n",
            "RangeIndex: 7043 entries, 0 to 7042\n",
            "Data columns (total 21 columns):\n",
            " #   Column            Non-Null Count  Dtype  \n",
            "---  ------            --------------  -----  \n",
            " 0   customerID        7043 non-null   object \n",
            " 1   gender            7043 non-null   object \n",
            " 2   SeniorCitizen     7043 non-null   int64  \n",
            " 3   Partner           7043 non-null   object \n",
            " 4   Dependents        7043 non-null   object \n",
            " 5   tenure            7043 non-null   int64  \n",
            " 6   PhoneService      7043 non-null   object \n",
            " 7   MultipleLines     7043 non-null   object \n",
            " 8   InternetService   7043 non-null   object \n",
            " 9   OnlineSecurity    7043 non-null   object \n",
            " 10  OnlineBackup      7043 non-null   object \n",
            " 11  DeviceProtection  7043 non-null   object \n",
            " 12  TechSupport       7043 non-null   object \n",
            " 13  StreamingTV       7043 non-null   object \n",
            " 14  StreamingMovies   7043 non-null   object \n",
            " 15  Contract          7043 non-null   object \n",
            " 16  PaperlessBilling  7043 non-null   object \n",
            " 17  PaymentMethod     7043 non-null   object \n",
            " 18  MonthlyCharges    7043 non-null   float64\n",
            " 19  TotalCharges      7043 non-null   object \n",
            " 20  Churn             7043 non-null   object \n",
            "dtypes: float64(1), int64(2), object(18)\n",
            "memory usage: 1.1+ MB\n"
          ]
        }
      ]
    },
    {
      "cell_type": "code",
      "metadata": {
        "colab": {
          "base_uri": "https://localhost:8080/"
        },
        "id": "RgcIuVhf5_JW",
        "outputId": "8abed3b9-3daa-48c3-a46d-27f67bb9085d"
      },
      "source": [
        "for col in df.columns:\n",
        "    print(f\"Column: {col}\")\n",
        "    print(df[col].unique())\n",
        "    print(\"=\"*10)"
      ],
      "execution_count": null,
      "outputs": [
        {
          "output_type": "stream",
          "name": "stdout",
          "text": [
            "Column: customerID\n",
            "['7590-VHVEG' '5575-GNVDE' '3668-QPYBK' ... '4801-JZAZL' '8361-LTMKD'\n",
            " '3186-AJIEK']\n",
            "==========\n",
            "Column: gender\n",
            "['Female' 'Male']\n",
            "==========\n",
            "Column: SeniorCitizen\n",
            "[0 1]\n",
            "==========\n",
            "Column: Partner\n",
            "['Yes' 'No']\n",
            "==========\n",
            "Column: Dependents\n",
            "['No' 'Yes']\n",
            "==========\n",
            "Column: tenure\n",
            "[ 1 34  2 45  8 22 10 28 62 13 16 58 49 25 69 52 71 21 12 30 47 72 17 27\n",
            "  5 46 11 70 63 43 15 60 18 66  9  3 31 50 64 56  7 42 35 48 29 65 38 68\n",
            " 32 55 37 36 41  6  4 33 67 23 57 61 14 20 53 40 59 24 44 19 54 51 26  0\n",
            " 39]\n",
            "==========\n",
            "Column: PhoneService\n",
            "['No' 'Yes']\n",
            "==========\n",
            "Column: MultipleLines\n",
            "['No phone service' 'No' 'Yes']\n",
            "==========\n",
            "Column: InternetService\n",
            "['DSL' 'Fiber optic' 'No']\n",
            "==========\n",
            "Column: OnlineSecurity\n",
            "['No' 'Yes' 'No internet service']\n",
            "==========\n",
            "Column: OnlineBackup\n",
            "['Yes' 'No' 'No internet service']\n",
            "==========\n",
            "Column: DeviceProtection\n",
            "['No' 'Yes' 'No internet service']\n",
            "==========\n",
            "Column: TechSupport\n",
            "['No' 'Yes' 'No internet service']\n",
            "==========\n",
            "Column: StreamingTV\n",
            "['No' 'Yes' 'No internet service']\n",
            "==========\n",
            "Column: StreamingMovies\n",
            "['No' 'Yes' 'No internet service']\n",
            "==========\n",
            "Column: Contract\n",
            "['Month-to-month' 'One year' 'Two year']\n",
            "==========\n",
            "Column: PaperlessBilling\n",
            "['Yes' 'No']\n",
            "==========\n",
            "Column: PaymentMethod\n",
            "['Electronic check' 'Mailed check' 'Bank transfer (automatic)'\n",
            " 'Credit card (automatic)']\n",
            "==========\n",
            "Column: MonthlyCharges\n",
            "[29.85 56.95 53.85 ... 63.1  44.2  78.7 ]\n",
            "==========\n",
            "Column: TotalCharges\n",
            "['29.85' '1889.5' '108.15' ... '346.45' '306.6' '6844.5']\n",
            "==========\n",
            "Column: Churn\n",
            "['No' 'Yes']\n",
            "==========\n"
          ]
        }
      ]
    },
    {
      "cell_type": "code",
      "metadata": {
        "id": "5xTIk6nC7XiL"
      },
      "source": [
        "df['TotalCharges']= df['TotalCharges'].apply(lambda x:0 if x==' ' else x)\n",
        "df['TotalCharges']= df['TotalCharges'].astype(float)"
      ],
      "execution_count": null,
      "outputs": []
    },
    {
      "cell_type": "code",
      "metadata": {
        "id": "mcn0Om9I8f5T"
      },
      "source": [
        "df['Churn']= df['Churn'].apply(lambda x:1 if x=='Yes' else 0)\n",
        "df['Churn']= df['Churn'].astype('int64')"
      ],
      "execution_count": null,
      "outputs": []
    },
    {
      "cell_type": "code",
      "metadata": {
        "id": "hWaRUAPw9Jkf"
      },
      "source": [
        "df['gender']= df['gender'].apply(lambda x:1 if x=='Female' else 0)\n",
        "df['gender']= df['gender'].astype('int64')"
      ],
      "execution_count": null,
      "outputs": []
    },
    {
      "cell_type": "code",
      "metadata": {
        "id": "4CmZvA5A94G2"
      },
      "source": [
        "df['Partner']= df['Partner'].apply(lambda x:1 if x=='Yes' else 0)\n",
        "df['Partner']= df['Partner'].astype('int64')"
      ],
      "execution_count": null,
      "outputs": []
    },
    {
      "cell_type": "code",
      "metadata": {
        "id": "b2-zSPrp-LCb"
      },
      "source": [
        "df['Dependents']= df['Dependents'].apply(lambda x:1 if x=='Yes' else 0)\n",
        "df['Dependents']= df['Dependents'].astype('int64')"
      ],
      "execution_count": null,
      "outputs": []
    },
    {
      "cell_type": "code",
      "metadata": {
        "id": "goS-4XsB-ix8"
      },
      "source": [
        "df['PhoneService']= df['PhoneService'].apply(lambda x:1 if x=='Yes' else 0)\n",
        "df['PhoneService']= df['PhoneService'].astype('int64')"
      ],
      "execution_count": null,
      "outputs": []
    },
    {
      "cell_type": "code",
      "metadata": {
        "id": "CraySwqhDU0F"
      },
      "source": [
        "df['PaperlessBilling']= df['PaperlessBilling'].apply(lambda x:1 if x=='Yes' else 0)\n",
        "df['PaperlessBilling']= df['PaperlessBilling'].astype('int64')"
      ],
      "execution_count": null,
      "outputs": []
    },
    {
      "cell_type": "code",
      "metadata": {
        "id": "uSjjLSyYGnFM"
      },
      "source": [
        "df['MultipleLines']= df['MultipleLines'].apply(lambda x:1 if x=='Yes' else (2 if x=='No phone service' else 0))\n",
        "df['MultipleLines']= df['MultipleLines'].astype('int64')"
      ],
      "execution_count": null,
      "outputs": []
    },
    {
      "cell_type": "code",
      "metadata": {
        "id": "MVEnNxE_Jl9e"
      },
      "source": [
        "df['InternetService']= df['InternetService'].apply(lambda x:1 if x=='DSL' else (2 if x=='Fiber optic' else 0))\n",
        "df['InternetService']= df['InternetService'].astype('int64')"
      ],
      "execution_count": null,
      "outputs": []
    },
    {
      "cell_type": "code",
      "metadata": {
        "id": "f2yze1jrJ8Vi"
      },
      "source": [
        "df['OnlineSecurity']= df['OnlineSecurity'].apply(lambda x:1 if x=='Yes' else (2 if x=='No internet service' else 0))\n",
        "df['OnlineSecurity']= df['OnlineSecurity'].astype('int64')"
      ],
      "execution_count": null,
      "outputs": []
    },
    {
      "cell_type": "code",
      "metadata": {
        "id": "CZCUxh59KVea"
      },
      "source": [
        "df['OnlineBackup']= df['OnlineBackup'].apply(lambda x:1 if x=='Yes' else (2 if x=='No internet service' else 0))\n",
        "df['OnlineBackup']= df['OnlineBackup'].astype('int64')"
      ],
      "execution_count": null,
      "outputs": []
    },
    {
      "cell_type": "code",
      "metadata": {
        "id": "OKvhZzp1Kc-N"
      },
      "source": [
        "df['DeviceProtection']= df['DeviceProtection'].apply(lambda x:1 if x=='Yes' else (2 if x=='No internet service' else 0))\n",
        "df['DeviceProtection']= df['DeviceProtection'].astype('int64')"
      ],
      "execution_count": null,
      "outputs": []
    },
    {
      "cell_type": "code",
      "metadata": {
        "id": "edTNV5oLK0Dz"
      },
      "source": [
        "df['TechSupport']= df['TechSupport'].apply(lambda x:1 if x=='Yes' else (2 if x=='No internet service' else 0))\n",
        "df['TechSupport']= df['TechSupport'].astype('int64')"
      ],
      "execution_count": null,
      "outputs": []
    },
    {
      "cell_type": "code",
      "metadata": {
        "id": "xytZ9W0ZK6cO"
      },
      "source": [
        "df['StreamingTV']= df['StreamingTV'].apply(lambda x:1 if x=='Yes' else (2 if x=='No internet service' else 0))\n",
        "df['StreamingTV']= df['StreamingTV'].astype('int64')"
      ],
      "execution_count": null,
      "outputs": []
    },
    {
      "cell_type": "code",
      "metadata": {
        "id": "WMTP65jKLBRL"
      },
      "source": [
        "df['StreamingMovies']= df['StreamingMovies'].apply(lambda x:1 if x=='Yes' else (2 if x=='No internet service' else 0))\n",
        "df['StreamingMovies']= df['StreamingMovies'].astype('int64')"
      ],
      "execution_count": null,
      "outputs": []
    },
    {
      "cell_type": "code",
      "metadata": {
        "id": "mBps67oXLKjB"
      },
      "source": [
        "df['Contract']= df['Contract'].apply(lambda x:1 if x=='One year' else (2 if x=='Two year' else 0))\n",
        "df['Contract']= df['Contract'].astype('int64')"
      ],
      "execution_count": null,
      "outputs": []
    },
    {
      "cell_type": "code",
      "metadata": {
        "id": "3mkEzxxgLiqF"
      },
      "source": [
        "df['PaymentMethod']= df['PaymentMethod'].apply(lambda x:1 if x=='Mailed check' else (2 if x=='Bank transfer (automatic)' else (3 if x=='Credit card (automatic)' else 0)))\n",
        "df['PaymentMethod']= df['PaymentMethod'].astype('int64')"
      ],
      "execution_count": null,
      "outputs": []
    },
    {
      "cell_type": "code",
      "metadata": {
        "colab": {
          "base_uri": "https://localhost:8080/",
          "height": 320
        },
        "id": "7GPEZJX1MTng",
        "outputId": "f2742970-7cff-4f38-d096-f692d01c5e96"
      },
      "source": [
        "df.describe()"
      ],
      "execution_count": null,
      "outputs": [
        {
          "output_type": "execute_result",
          "data": {
            "text/html": [
              "<div>\n",
              "<style scoped>\n",
              "    .dataframe tbody tr th:only-of-type {\n",
              "        vertical-align: middle;\n",
              "    }\n",
              "\n",
              "    .dataframe tbody tr th {\n",
              "        vertical-align: top;\n",
              "    }\n",
              "\n",
              "    .dataframe thead th {\n",
              "        text-align: right;\n",
              "    }\n",
              "</style>\n",
              "<table border=\"1\" class=\"dataframe\">\n",
              "  <thead>\n",
              "    <tr style=\"text-align: right;\">\n",
              "      <th></th>\n",
              "      <th>gender</th>\n",
              "      <th>SeniorCitizen</th>\n",
              "      <th>Partner</th>\n",
              "      <th>Dependents</th>\n",
              "      <th>tenure</th>\n",
              "      <th>PhoneService</th>\n",
              "      <th>MultipleLines</th>\n",
              "      <th>InternetService</th>\n",
              "      <th>OnlineSecurity</th>\n",
              "      <th>OnlineBackup</th>\n",
              "      <th>DeviceProtection</th>\n",
              "      <th>TechSupport</th>\n",
              "      <th>StreamingTV</th>\n",
              "      <th>StreamingMovies</th>\n",
              "      <th>Contract</th>\n",
              "      <th>PaperlessBilling</th>\n",
              "      <th>PaymentMethod</th>\n",
              "      <th>MonthlyCharges</th>\n",
              "      <th>TotalCharges</th>\n",
              "      <th>Churn</th>\n",
              "    </tr>\n",
              "  </thead>\n",
              "  <tbody>\n",
              "    <tr>\n",
              "      <th>count</th>\n",
              "      <td>7043.000000</td>\n",
              "      <td>7043.000000</td>\n",
              "      <td>7043.000000</td>\n",
              "      <td>7043.000000</td>\n",
              "      <td>7043.000000</td>\n",
              "      <td>7043.000000</td>\n",
              "      <td>7043.000000</td>\n",
              "      <td>7043.000000</td>\n",
              "      <td>7043.000000</td>\n",
              "      <td>7043.000000</td>\n",
              "      <td>7043.000000</td>\n",
              "      <td>7043.000000</td>\n",
              "      <td>7043.000000</td>\n",
              "      <td>7043.000000</td>\n",
              "      <td>7043.000000</td>\n",
              "      <td>7043.000000</td>\n",
              "      <td>7043.000000</td>\n",
              "      <td>7043.000000</td>\n",
              "      <td>7043.000000</td>\n",
              "      <td>7043.000000</td>\n",
              "    </tr>\n",
              "    <tr>\n",
              "      <th>mean</th>\n",
              "      <td>0.495244</td>\n",
              "      <td>0.162147</td>\n",
              "      <td>0.483033</td>\n",
              "      <td>0.299588</td>\n",
              "      <td>32.371149</td>\n",
              "      <td>0.903166</td>\n",
              "      <td>0.615505</td>\n",
              "      <td>1.222916</td>\n",
              "      <td>0.720006</td>\n",
              "      <td>0.778220</td>\n",
              "      <td>0.777226</td>\n",
              "      <td>0.723555</td>\n",
              "      <td>0.817691</td>\n",
              "      <td>0.821241</td>\n",
              "      <td>0.690473</td>\n",
              "      <td>0.592219</td>\n",
              "      <td>1.315633</td>\n",
              "      <td>64.761692</td>\n",
              "      <td>2279.734304</td>\n",
              "      <td>0.265370</td>\n",
              "    </tr>\n",
              "    <tr>\n",
              "      <th>std</th>\n",
              "      <td>0.500013</td>\n",
              "      <td>0.368612</td>\n",
              "      <td>0.499748</td>\n",
              "      <td>0.458110</td>\n",
              "      <td>24.559481</td>\n",
              "      <td>0.295752</td>\n",
              "      <td>0.656039</td>\n",
              "      <td>0.778877</td>\n",
              "      <td>0.796885</td>\n",
              "      <td>0.778472</td>\n",
              "      <td>0.778826</td>\n",
              "      <td>0.795896</td>\n",
              "      <td>0.763212</td>\n",
              "      <td>0.761725</td>\n",
              "      <td>0.833755</td>\n",
              "      <td>0.491457</td>\n",
              "      <td>1.148907</td>\n",
              "      <td>30.090047</td>\n",
              "      <td>2266.794470</td>\n",
              "      <td>0.441561</td>\n",
              "    </tr>\n",
              "    <tr>\n",
              "      <th>min</th>\n",
              "      <td>0.000000</td>\n",
              "      <td>0.000000</td>\n",
              "      <td>0.000000</td>\n",
              "      <td>0.000000</td>\n",
              "      <td>0.000000</td>\n",
              "      <td>0.000000</td>\n",
              "      <td>0.000000</td>\n",
              "      <td>0.000000</td>\n",
              "      <td>0.000000</td>\n",
              "      <td>0.000000</td>\n",
              "      <td>0.000000</td>\n",
              "      <td>0.000000</td>\n",
              "      <td>0.000000</td>\n",
              "      <td>0.000000</td>\n",
              "      <td>0.000000</td>\n",
              "      <td>0.000000</td>\n",
              "      <td>0.000000</td>\n",
              "      <td>18.250000</td>\n",
              "      <td>0.000000</td>\n",
              "      <td>0.000000</td>\n",
              "    </tr>\n",
              "    <tr>\n",
              "      <th>25%</th>\n",
              "      <td>0.000000</td>\n",
              "      <td>0.000000</td>\n",
              "      <td>0.000000</td>\n",
              "      <td>0.000000</td>\n",
              "      <td>9.000000</td>\n",
              "      <td>1.000000</td>\n",
              "      <td>0.000000</td>\n",
              "      <td>1.000000</td>\n",
              "      <td>0.000000</td>\n",
              "      <td>0.000000</td>\n",
              "      <td>0.000000</td>\n",
              "      <td>0.000000</td>\n",
              "      <td>0.000000</td>\n",
              "      <td>0.000000</td>\n",
              "      <td>0.000000</td>\n",
              "      <td>0.000000</td>\n",
              "      <td>0.000000</td>\n",
              "      <td>35.500000</td>\n",
              "      <td>398.550000</td>\n",
              "      <td>0.000000</td>\n",
              "    </tr>\n",
              "    <tr>\n",
              "      <th>50%</th>\n",
              "      <td>0.000000</td>\n",
              "      <td>0.000000</td>\n",
              "      <td>0.000000</td>\n",
              "      <td>0.000000</td>\n",
              "      <td>29.000000</td>\n",
              "      <td>1.000000</td>\n",
              "      <td>1.000000</td>\n",
              "      <td>1.000000</td>\n",
              "      <td>1.000000</td>\n",
              "      <td>1.000000</td>\n",
              "      <td>1.000000</td>\n",
              "      <td>1.000000</td>\n",
              "      <td>1.000000</td>\n",
              "      <td>1.000000</td>\n",
              "      <td>0.000000</td>\n",
              "      <td>1.000000</td>\n",
              "      <td>1.000000</td>\n",
              "      <td>70.350000</td>\n",
              "      <td>1394.550000</td>\n",
              "      <td>0.000000</td>\n",
              "    </tr>\n",
              "    <tr>\n",
              "      <th>75%</th>\n",
              "      <td>1.000000</td>\n",
              "      <td>0.000000</td>\n",
              "      <td>1.000000</td>\n",
              "      <td>1.000000</td>\n",
              "      <td>55.000000</td>\n",
              "      <td>1.000000</td>\n",
              "      <td>1.000000</td>\n",
              "      <td>2.000000</td>\n",
              "      <td>1.000000</td>\n",
              "      <td>1.000000</td>\n",
              "      <td>1.000000</td>\n",
              "      <td>1.000000</td>\n",
              "      <td>1.000000</td>\n",
              "      <td>1.000000</td>\n",
              "      <td>1.000000</td>\n",
              "      <td>1.000000</td>\n",
              "      <td>2.000000</td>\n",
              "      <td>89.850000</td>\n",
              "      <td>3786.600000</td>\n",
              "      <td>1.000000</td>\n",
              "    </tr>\n",
              "    <tr>\n",
              "      <th>max</th>\n",
              "      <td>1.000000</td>\n",
              "      <td>1.000000</td>\n",
              "      <td>1.000000</td>\n",
              "      <td>1.000000</td>\n",
              "      <td>72.000000</td>\n",
              "      <td>1.000000</td>\n",
              "      <td>2.000000</td>\n",
              "      <td>2.000000</td>\n",
              "      <td>2.000000</td>\n",
              "      <td>2.000000</td>\n",
              "      <td>2.000000</td>\n",
              "      <td>2.000000</td>\n",
              "      <td>2.000000</td>\n",
              "      <td>2.000000</td>\n",
              "      <td>2.000000</td>\n",
              "      <td>1.000000</td>\n",
              "      <td>3.000000</td>\n",
              "      <td>118.750000</td>\n",
              "      <td>8684.800000</td>\n",
              "      <td>1.000000</td>\n",
              "    </tr>\n",
              "  </tbody>\n",
              "</table>\n",
              "</div>"
            ],
            "text/plain": [
              "            gender  SeniorCitizen  ...  TotalCharges        Churn\n",
              "count  7043.000000    7043.000000  ...   7043.000000  7043.000000\n",
              "mean      0.495244       0.162147  ...   2279.734304     0.265370\n",
              "std       0.500013       0.368612  ...   2266.794470     0.441561\n",
              "min       0.000000       0.000000  ...      0.000000     0.000000\n",
              "25%       0.000000       0.000000  ...    398.550000     0.000000\n",
              "50%       0.000000       0.000000  ...   1394.550000     0.000000\n",
              "75%       1.000000       0.000000  ...   3786.600000     1.000000\n",
              "max       1.000000       1.000000  ...   8684.800000     1.000000\n",
              "\n",
              "[8 rows x 20 columns]"
            ]
          },
          "metadata": {},
          "execution_count": 123
        }
      ]
    },
    {
      "cell_type": "markdown",
      "metadata": {
        "id": "DSZ9FbBlRJgq"
      },
      "source": [
        "Dropping Column"
      ]
    },
    {
      "cell_type": "code",
      "metadata": {
        "id": "gFIyFpZs7Y5p"
      },
      "source": [
        "df = df.drop(columns = ['customerID'])"
      ],
      "execution_count": null,
      "outputs": []
    },
    {
      "cell_type": "markdown",
      "metadata": {
        "id": "xS08q-SARQ9-"
      },
      "source": [
        "Target Feauture Analysis"
      ]
    },
    {
      "cell_type": "code",
      "metadata": {
        "colab": {
          "base_uri": "https://localhost:8080/"
        },
        "id": "9ZUqn3T3SnMU",
        "outputId": "91e9840c-5c4b-4373-b346-4768b57e91fc"
      },
      "source": [
        "df['Churn'].value_counts()"
      ],
      "execution_count": null,
      "outputs": [
        {
          "output_type": "execute_result",
          "data": {
            "text/plain": [
              "0    5174\n",
              "1    1869\n",
              "Name: Churn, dtype: int64"
            ]
          },
          "metadata": {},
          "execution_count": 125
        }
      ]
    },
    {
      "cell_type": "code",
      "metadata": {
        "colab": {
          "base_uri": "https://localhost:8080/",
          "height": 281
        },
        "id": "y7Wyy1QCRHUk",
        "outputId": "3ef4740f-7260-489f-b354-2079c2cf8ee0"
      },
      "source": [
        "df['Churn'].value_counts().plot(kind='bar')\n",
        "plt.title('Churn Distribution')\n",
        "plt.show()"
      ],
      "execution_count": null,
      "outputs": [
        {
          "output_type": "display_data",
          "data": {
            "image/png": "[encoded data removed]",
            "text/plain": [
              "<Figure size 432x288 with 1 Axes>"
            ]
          },
          "metadata": {}
        }
      ]
    },
    {
      "cell_type": "code",
      "metadata": {
        "colab": {
          "base_uri": "https://localhost:8080/",
          "height": 281
        },
        "id": "fay8H3ryRQqh",
        "outputId": "900aec3d-a7d3-4da5-ca1e-5b53ee7bd10f"
      },
      "source": [
        "df['Churn'].value_counts(True).plot(kind='bar')\n",
        "plt.title('Churn Distribution')\n",
        "plt.show()"
      ],
      "execution_count": null,
      "outputs": [
        {
          "output_type": "display_data",
          "data": {
            "image/png": "[encoded data removed]",
            "text/plain": [
              "<Figure size 432x288 with 1 Axes>"
            ]
          },
          "metadata": {}
        }
      ]
    },
    {
      "cell_type": "markdown",
      "metadata": {
        "id": "J7h-6TljTD0r"
      },
      "source": [
        "Correlation Analysis"
      ]
    },
    {
      "cell_type": "code",
      "metadata": {
        "colab": {
          "base_uri": "https://localhost:8080/",
          "height": 697
        },
        "id": "3aow9M8aS6dQ",
        "outputId": "89f82a28-ed46-4e02-b091-3f9960ceccef"
      },
      "source": [
        "df_corr = df.corr()\n",
        "df_corr"
      ],
      "execution_count": null,
      "outputs": [
        {
          "output_type": "execute_result",
          "data": {
            "text/html": [
              "<div>\n",
              "<style scoped>\n",
              "    .dataframe tbody tr th:only-of-type {\n",
              "        vertical-align: middle;\n",
              "    }\n",
              "\n",
              "    .dataframe tbody tr th {\n",
              "        vertical-align: top;\n",
              "    }\n",
              "\n",
              "    .dataframe thead th {\n",
              "        text-align: right;\n",
              "    }\n",
              "</style>\n",
              "<table border=\"1\" class=\"dataframe\">\n",
              "  <thead>\n",
              "    <tr style=\"text-align: right;\">\n",
              "      <th></th>\n",
              "      <th>gender</th>\n",
              "      <th>SeniorCitizen</th>\n",
              "      <th>Partner</th>\n",
              "      <th>Dependents</th>\n",
              "      <th>tenure</th>\n",
              "      <th>PhoneService</th>\n",
              "      <th>MultipleLines</th>\n",
              "      <th>InternetService</th>\n",
              "      <th>OnlineSecurity</th>\n",
              "      <th>OnlineBackup</th>\n",
              "      <th>DeviceProtection</th>\n",
              "      <th>TechSupport</th>\n",
              "      <th>StreamingTV</th>\n",
              "      <th>StreamingMovies</th>\n",
              "      <th>Contract</th>\n",
              "      <th>PaperlessBilling</th>\n",
              "      <th>PaymentMethod</th>\n",
              "      <th>MonthlyCharges</th>\n",
              "      <th>TotalCharges</th>\n",
              "      <th>Churn</th>\n",
              "    </tr>\n",
              "  </thead>\n",
              "  <tbody>\n",
              "    <tr>\n",
              "      <th>gender</th>\n",
              "      <td>1.000000</td>\n",
              "      <td>0.001874</td>\n",
              "      <td>0.001808</td>\n",
              "      <td>-0.010517</td>\n",
              "      <td>-0.005106</td>\n",
              "      <td>0.006488</td>\n",
              "      <td>0.000485</td>\n",
              "      <td>0.010380</td>\n",
              "      <td>0.003429</td>\n",
              "      <td>0.002032</td>\n",
              "      <td>-0.005092</td>\n",
              "      <td>-0.000985</td>\n",
              "      <td>-0.001156</td>\n",
              "      <td>0.000191</td>\n",
              "      <td>-0.000126</td>\n",
              "      <td>0.011754</td>\n",
              "      <td>0.005209</td>\n",
              "      <td>0.014569</td>\n",
              "      <td>0.000080</td>\n",
              "      <td>0.008612</td>\n",
              "    </tr>\n",
              "    <tr>\n",
              "      <th>SeniorCitizen</th>\n",
              "      <td>0.001874</td>\n",
              "      <td>1.000000</td>\n",
              "      <td>0.016479</td>\n",
              "      <td>-0.211185</td>\n",
              "      <td>0.016567</td>\n",
              "      <td>0.008576</td>\n",
              "      <td>0.099883</td>\n",
              "      <td>0.259390</td>\n",
              "      <td>-0.210897</td>\n",
              "      <td>-0.152780</td>\n",
              "      <td>-0.157095</td>\n",
              "      <td>-0.223770</td>\n",
              "      <td>-0.130130</td>\n",
              "      <td>-0.120802</td>\n",
              "      <td>-0.142554</td>\n",
              "      <td>0.156530</td>\n",
              "      <td>-0.093704</td>\n",
              "      <td>0.220173</td>\n",
              "      <td>0.103006</td>\n",
              "      <td>0.150889</td>\n",
              "    </tr>\n",
              "    <tr>\n",
              "      <th>Partner</th>\n",
              "      <td>0.001808</td>\n",
              "      <td>0.016479</td>\n",
              "      <td>1.000000</td>\n",
              "      <td>0.452676</td>\n",
              "      <td>0.379697</td>\n",
              "      <td>0.017706</td>\n",
              "      <td>0.090981</td>\n",
              "      <td>-0.000132</td>\n",
              "      <td>0.081850</td>\n",
              "      <td>0.087055</td>\n",
              "      <td>0.094451</td>\n",
              "      <td>0.069072</td>\n",
              "      <td>0.080127</td>\n",
              "      <td>0.075779</td>\n",
              "      <td>0.294806</td>\n",
              "      <td>-0.014877</td>\n",
              "      <td>0.133115</td>\n",
              "      <td>0.096848</td>\n",
              "      <td>0.317504</td>\n",
              "      <td>-0.150448</td>\n",
              "    </tr>\n",
              "    <tr>\n",
              "      <th>Dependents</th>\n",
              "      <td>-0.010517</td>\n",
              "      <td>-0.211185</td>\n",
              "      <td>0.452676</td>\n",
              "      <td>1.000000</td>\n",
              "      <td>0.159712</td>\n",
              "      <td>-0.001762</td>\n",
              "      <td>-0.016875</td>\n",
              "      <td>-0.179631</td>\n",
              "      <td>0.190523</td>\n",
              "      <td>0.162445</td>\n",
              "      <td>0.156439</td>\n",
              "      <td>0.180832</td>\n",
              "      <td>0.140395</td>\n",
              "      <td>0.125820</td>\n",
              "      <td>0.243187</td>\n",
              "      <td>-0.111377</td>\n",
              "      <td>0.123844</td>\n",
              "      <td>-0.113890</td>\n",
              "      <td>0.062078</td>\n",
              "      <td>-0.164221</td>\n",
              "    </tr>\n",
              "    <tr>\n",
              "      <th>tenure</th>\n",
              "      <td>-0.005106</td>\n",
              "      <td>0.016567</td>\n",
              "      <td>0.379697</td>\n",
              "      <td>0.159712</td>\n",
              "      <td>1.000000</td>\n",
              "      <td>0.008448</td>\n",
              "      <td>0.242279</td>\n",
              "      <td>0.033230</td>\n",
              "      <td>0.145298</td>\n",
              "      <td>0.178651</td>\n",
              "      <td>0.178649</td>\n",
              "      <td>0.144459</td>\n",
              "      <td>0.136145</td>\n",
              "      <td>0.140781</td>\n",
              "      <td>0.671607</td>\n",
              "      <td>0.006152</td>\n",
              "      <td>0.340305</td>\n",
              "      <td>0.247900</td>\n",
              "      <td>0.826178</td>\n",
              "      <td>-0.352229</td>\n",
              "    </tr>\n",
              "    <tr>\n",
              "      <th>PhoneService</th>\n",
              "      <td>0.006488</td>\n",
              "      <td>0.008576</td>\n",
              "      <td>0.017706</td>\n",
              "      <td>-0.001762</td>\n",
              "      <td>0.008448</td>\n",
              "      <td>1.000000</td>\n",
              "      <td>-0.691070</td>\n",
              "      <td>0.093720</td>\n",
              "      <td>0.125353</td>\n",
              "      <td>0.150338</td>\n",
              "      <td>0.138755</td>\n",
              "      <td>0.123350</td>\n",
              "      <td>0.171538</td>\n",
              "      <td>0.165205</td>\n",
              "      <td>0.002247</td>\n",
              "      <td>0.016505</td>\n",
              "      <td>-0.004070</td>\n",
              "      <td>0.247398</td>\n",
              "      <td>0.113214</td>\n",
              "      <td>0.011942</td>\n",
              "    </tr>\n",
              "    <tr>\n",
              "      <th>MultipleLines</th>\n",
              "      <td>0.000485</td>\n",
              "      <td>0.099883</td>\n",
              "      <td>0.090981</td>\n",
              "      <td>-0.016875</td>\n",
              "      <td>0.242279</td>\n",
              "      <td>-0.691070</td>\n",
              "      <td>1.000000</td>\n",
              "      <td>0.174989</td>\n",
              "      <td>-0.235021</td>\n",
              "      <td>-0.210372</td>\n",
              "      <td>-0.200463</td>\n",
              "      <td>-0.232155</td>\n",
              "      <td>-0.202414</td>\n",
              "      <td>-0.195815</td>\n",
              "      <td>0.078613</td>\n",
              "      <td>0.108230</td>\n",
              "      <td>0.030659</td>\n",
              "      <td>0.146153</td>\n",
              "      <td>0.250628</td>\n",
              "      <td>0.019423</td>\n",
              "    </tr>\n",
              "    <tr>\n",
              "      <th>InternetService</th>\n",
              "      <td>0.010380</td>\n",
              "      <td>0.259390</td>\n",
              "      <td>-0.000132</td>\n",
              "      <td>-0.179631</td>\n",
              "      <td>0.033230</td>\n",
              "      <td>0.093720</td>\n",
              "      <td>0.174989</td>\n",
              "      <td>1.000000</td>\n",
              "      <td>-0.764943</td>\n",
              "      <td>-0.686403</td>\n",
              "      <td>-0.682448</td>\n",
              "      <td>-0.760985</td>\n",
              "      <td>-0.617704</td>\n",
              "      <td>-0.620005</td>\n",
              "      <td>-0.290189</td>\n",
              "      <td>0.378108</td>\n",
              "      <td>-0.178137</td>\n",
              "      <td>0.905491</td>\n",
              "      <td>0.428963</td>\n",
              "      <td>0.316846</td>\n",
              "    </tr>\n",
              "    <tr>\n",
              "      <th>OnlineSecurity</th>\n",
              "      <td>0.003429</td>\n",
              "      <td>-0.210897</td>\n",
              "      <td>0.081850</td>\n",
              "      <td>0.190523</td>\n",
              "      <td>0.145298</td>\n",
              "      <td>0.125353</td>\n",
              "      <td>-0.235021</td>\n",
              "      <td>-0.764943</td>\n",
              "      <td>1.000000</td>\n",
              "      <td>0.751661</td>\n",
              "      <td>0.749040</td>\n",
              "      <td>0.791225</td>\n",
              "      <td>0.701976</td>\n",
              "      <td>0.704984</td>\n",
              "      <td>0.389978</td>\n",
              "      <td>-0.334003</td>\n",
              "      <td>0.213800</td>\n",
              "      <td>-0.621227</td>\n",
              "      <td>-0.154380</td>\n",
              "      <td>-0.332819</td>\n",
              "    </tr>\n",
              "    <tr>\n",
              "      <th>OnlineBackup</th>\n",
              "      <td>0.002032</td>\n",
              "      <td>-0.152780</td>\n",
              "      <td>0.087055</td>\n",
              "      <td>0.162445</td>\n",
              "      <td>0.178651</td>\n",
              "      <td>0.150338</td>\n",
              "      <td>-0.210372</td>\n",
              "      <td>-0.686403</td>\n",
              "      <td>0.751661</td>\n",
              "      <td>1.000000</td>\n",
              "      <td>0.740604</td>\n",
              "      <td>0.754095</td>\n",
              "      <td>0.720671</td>\n",
              "      <td>0.716700</td>\n",
              "      <td>0.351267</td>\n",
              "      <td>-0.262402</td>\n",
              "      <td>0.182909</td>\n",
              "      <td>-0.538454</td>\n",
              "      <td>-0.086220</td>\n",
              "      <td>-0.291449</td>\n",
              "    </tr>\n",
              "    <tr>\n",
              "      <th>DeviceProtection</th>\n",
              "      <td>-0.005092</td>\n",
              "      <td>-0.157095</td>\n",
              "      <td>0.094451</td>\n",
              "      <td>0.156439</td>\n",
              "      <td>0.178649</td>\n",
              "      <td>0.138755</td>\n",
              "      <td>-0.200463</td>\n",
              "      <td>-0.682448</td>\n",
              "      <td>0.749040</td>\n",
              "      <td>0.740604</td>\n",
              "      <td>1.000000</td>\n",
              "      <td>0.767970</td>\n",
              "      <td>0.763279</td>\n",
              "      <td>0.766821</td>\n",
              "      <td>0.390216</td>\n",
              "      <td>-0.276326</td>\n",
              "      <td>0.191746</td>\n",
              "      <td>-0.513440</td>\n",
              "      <td>-0.078612</td>\n",
              "      <td>-0.281465</td>\n",
              "    </tr>\n",
              "    <tr>\n",
              "      <th>TechSupport</th>\n",
              "      <td>-0.000985</td>\n",
              "      <td>-0.223770</td>\n",
              "      <td>0.069072</td>\n",
              "      <td>0.180832</td>\n",
              "      <td>0.144459</td>\n",
              "      <td>0.123350</td>\n",
              "      <td>-0.232155</td>\n",
              "      <td>-0.760985</td>\n",
              "      <td>0.791225</td>\n",
              "      <td>0.754095</td>\n",
              "      <td>0.767970</td>\n",
              "      <td>1.000000</td>\n",
              "      <td>0.737578</td>\n",
              "      <td>0.737123</td>\n",
              "      <td>0.418440</td>\n",
              "      <td>-0.310749</td>\n",
              "      <td>0.216878</td>\n",
              "      <td>-0.597594</td>\n",
              "      <td>-0.142176</td>\n",
              "      <td>-0.329852</td>\n",
              "    </tr>\n",
              "    <tr>\n",
              "      <th>StreamingTV</th>\n",
              "      <td>-0.001156</td>\n",
              "      <td>-0.130130</td>\n",
              "      <td>0.080127</td>\n",
              "      <td>0.140395</td>\n",
              "      <td>0.136145</td>\n",
              "      <td>0.171538</td>\n",
              "      <td>-0.202414</td>\n",
              "      <td>-0.617704</td>\n",
              "      <td>0.701976</td>\n",
              "      <td>0.720671</td>\n",
              "      <td>0.763279</td>\n",
              "      <td>0.737578</td>\n",
              "      <td>1.000000</td>\n",
              "      <td>0.809608</td>\n",
              "      <td>0.327951</td>\n",
              "      <td>-0.203907</td>\n",
              "      <td>0.117618</td>\n",
              "      <td>-0.423067</td>\n",
              "      <td>-0.076865</td>\n",
              "      <td>-0.205742</td>\n",
              "    </tr>\n",
              "    <tr>\n",
              "      <th>StreamingMovies</th>\n",
              "      <td>0.000191</td>\n",
              "      <td>-0.120802</td>\n",
              "      <td>0.075779</td>\n",
              "      <td>0.125820</td>\n",
              "      <td>0.140781</td>\n",
              "      <td>0.165205</td>\n",
              "      <td>-0.195815</td>\n",
              "      <td>-0.620005</td>\n",
              "      <td>0.704984</td>\n",
              "      <td>0.716700</td>\n",
              "      <td>0.766821</td>\n",
              "      <td>0.737123</td>\n",
              "      <td>0.809608</td>\n",
              "      <td>1.000000</td>\n",
              "      <td>0.330993</td>\n",
              "      <td>-0.211818</td>\n",
              "      <td>0.123869</td>\n",
              "      <td>-0.424598</td>\n",
              "      <td>-0.073160</td>\n",
              "      <td>-0.207256</td>\n",
              "    </tr>\n",
              "    <tr>\n",
              "      <th>Contract</th>\n",
              "      <td>-0.000126</td>\n",
              "      <td>-0.142554</td>\n",
              "      <td>0.294806</td>\n",
              "      <td>0.243187</td>\n",
              "      <td>0.671607</td>\n",
              "      <td>0.002247</td>\n",
              "      <td>0.078613</td>\n",
              "      <td>-0.290189</td>\n",
              "      <td>0.389978</td>\n",
              "      <td>0.351267</td>\n",
              "      <td>0.390216</td>\n",
              "      <td>0.418440</td>\n",
              "      <td>0.327951</td>\n",
              "      <td>0.330993</td>\n",
              "      <td>1.000000</td>\n",
              "      <td>-0.176733</td>\n",
              "      <td>0.358913</td>\n",
              "      <td>-0.074195</td>\n",
              "      <td>0.446855</td>\n",
              "      <td>-0.396713</td>\n",
              "    </tr>\n",
              "    <tr>\n",
              "      <th>PaperlessBilling</th>\n",
              "      <td>0.011754</td>\n",
              "      <td>0.156530</td>\n",
              "      <td>-0.014877</td>\n",
              "      <td>-0.111377</td>\n",
              "      <td>0.006152</td>\n",
              "      <td>0.016505</td>\n",
              "      <td>0.108230</td>\n",
              "      <td>0.378108</td>\n",
              "      <td>-0.334003</td>\n",
              "      <td>-0.262402</td>\n",
              "      <td>-0.276326</td>\n",
              "      <td>-0.310749</td>\n",
              "      <td>-0.203907</td>\n",
              "      <td>-0.211818</td>\n",
              "      <td>-0.176733</td>\n",
              "      <td>1.000000</td>\n",
              "      <td>-0.101480</td>\n",
              "      <td>0.352150</td>\n",
              "      <td>0.158574</td>\n",
              "      <td>0.191825</td>\n",
              "    </tr>\n",
              "    <tr>\n",
              "      <th>PaymentMethod</th>\n",
              "      <td>0.005209</td>\n",
              "      <td>-0.093704</td>\n",
              "      <td>0.133115</td>\n",
              "      <td>0.123844</td>\n",
              "      <td>0.340305</td>\n",
              "      <td>-0.004070</td>\n",
              "      <td>0.030659</td>\n",
              "      <td>-0.178137</td>\n",
              "      <td>0.213800</td>\n",
              "      <td>0.182909</td>\n",
              "      <td>0.191746</td>\n",
              "      <td>0.216878</td>\n",
              "      <td>0.117618</td>\n",
              "      <td>0.123869</td>\n",
              "      <td>0.358913</td>\n",
              "      <td>-0.101480</td>\n",
              "      <td>1.000000</td>\n",
              "      <td>-0.074353</td>\n",
              "      <td>0.222398</td>\n",
              "      <td>-0.262818</td>\n",
              "    </tr>\n",
              "    <tr>\n",
              "      <th>MonthlyCharges</th>\n",
              "      <td>0.014569</td>\n",
              "      <td>0.220173</td>\n",
              "      <td>0.096848</td>\n",
              "      <td>-0.113890</td>\n",
              "      <td>0.247900</td>\n",
              "      <td>0.247398</td>\n",
              "      <td>0.146153</td>\n",
              "      <td>0.905491</td>\n",
              "      <td>-0.621227</td>\n",
              "      <td>-0.538454</td>\n",
              "      <td>-0.513440</td>\n",
              "      <td>-0.597594</td>\n",
              "      <td>-0.423067</td>\n",
              "      <td>-0.424598</td>\n",
              "      <td>-0.074195</td>\n",
              "      <td>0.352150</td>\n",
              "      <td>-0.074353</td>\n",
              "      <td>1.000000</td>\n",
              "      <td>0.651174</td>\n",
              "      <td>0.193356</td>\n",
              "    </tr>\n",
              "    <tr>\n",
              "      <th>TotalCharges</th>\n",
              "      <td>0.000080</td>\n",
              "      <td>0.103006</td>\n",
              "      <td>0.317504</td>\n",
              "      <td>0.062078</td>\n",
              "      <td>0.826178</td>\n",
              "      <td>0.113214</td>\n",
              "      <td>0.250628</td>\n",
              "      <td>0.428963</td>\n",
              "      <td>-0.154380</td>\n",
              "      <td>-0.086220</td>\n",
              "      <td>-0.078612</td>\n",
              "      <td>-0.142176</td>\n",
              "      <td>-0.076865</td>\n",
              "      <td>-0.073160</td>\n",
              "      <td>0.446855</td>\n",
              "      <td>0.158574</td>\n",
              "      <td>0.222398</td>\n",
              "      <td>0.651174</td>\n",
              "      <td>1.000000</td>\n",
              "      <td>-0.198324</td>\n",
              "    </tr>\n",
              "    <tr>\n",
              "      <th>Churn</th>\n",
              "      <td>0.008612</td>\n",
              "      <td>0.150889</td>\n",
              "      <td>-0.150448</td>\n",
              "      <td>-0.164221</td>\n",
              "      <td>-0.352229</td>\n",
              "      <td>0.011942</td>\n",
              "      <td>0.019423</td>\n",
              "      <td>0.316846</td>\n",
              "      <td>-0.332819</td>\n",
              "      <td>-0.291449</td>\n",
              "      <td>-0.281465</td>\n",
              "      <td>-0.329852</td>\n",
              "      <td>-0.205742</td>\n",
              "      <td>-0.207256</td>\n",
              "      <td>-0.396713</td>\n",
              "      <td>0.191825</td>\n",
              "      <td>-0.262818</td>\n",
              "      <td>0.193356</td>\n",
              "      <td>-0.198324</td>\n",
              "      <td>1.000000</td>\n",
              "    </tr>\n",
              "  </tbody>\n",
              "</table>\n",
              "</div>"
            ],
            "text/plain": [
              "                    gender  SeniorCitizen  ...  TotalCharges     Churn\n",
              "gender            1.000000       0.001874  ...      0.000080  0.008612\n",
              "SeniorCitizen     0.001874       1.000000  ...      0.103006  0.150889\n",
              "Partner           0.001808       0.016479  ...      0.317504 -0.150448\n",
              "Dependents       -0.010517      -0.211185  ...      0.062078 -0.164221\n",
              "tenure           -0.005106       0.016567  ...      0.826178 -0.352229\n",
              "PhoneService      0.006488       0.008576  ...      0.113214  0.011942\n",
              "MultipleLines     0.000485       0.099883  ...      0.250628  0.019423\n",
              "InternetService   0.010380       0.259390  ...      0.428963  0.316846\n",
              "OnlineSecurity    0.003429      -0.210897  ...     -0.154380 -0.332819\n",
              "OnlineBackup      0.002032      -0.152780  ...     -0.086220 -0.291449\n",
              "DeviceProtection -0.005092      -0.157095  ...     -0.078612 -0.281465\n",
              "TechSupport      -0.000985      -0.223770  ...     -0.142176 -0.329852\n",
              "StreamingTV      -0.001156      -0.130130  ...     -0.076865 -0.205742\n",
              "StreamingMovies   0.000191      -0.120802  ...     -0.073160 -0.207256\n",
              "Contract         -0.000126      -0.142554  ...      0.446855 -0.396713\n",
              "PaperlessBilling  0.011754       0.156530  ...      0.158574  0.191825\n",
              "PaymentMethod     0.005209      -0.093704  ...      0.222398 -0.262818\n",
              "MonthlyCharges    0.014569       0.220173  ...      0.651174  0.193356\n",
              "TotalCharges      0.000080       0.103006  ...      1.000000 -0.198324\n",
              "Churn             0.008612       0.150889  ...     -0.198324  1.000000\n",
              "\n",
              "[20 rows x 20 columns]"
            ]
          },
          "metadata": {},
          "execution_count": 128
        }
      ]
    },
    {
      "cell_type": "code",
      "metadata": {
        "colab": {
          "base_uri": "https://localhost:8080/",
          "height": 804
        },
        "id": "3CN-e6mrTNeh",
        "outputId": "6dc8ff7f-6b29-48f3-faea-a3b5156f3ead"
      },
      "source": [
        "df_corr = df.corr()\n",
        "mask = np.zeros_like(df_corr)\n",
        "mask[np.triu_indices_from(mask)] = True\n",
        "\n",
        "fig, ax = plt.subplots(figsize=(15, 12))\n",
        "ax = sns.heatmap(df_corr,mask=mask, \n",
        "                 annot=True, annot_kws={'size':10}, fmt=\".2f\")\n",
        "plt.title(\"Telco Customer Churn (Pearson Correlation Heatmap)\")\n",
        "plt.show()"
      ],
      "execution_count": null,
      "outputs": [
        {
          "output_type": "display_data",
          "data": {
            "image/png": "[encoded data removed]",
            "text/plain": [
              "<Figure size 1080x864 with 2 Axes>"
            ]
          },
          "metadata": {}
        }
      ]
    },
    {
      "cell_type": "markdown",
      "metadata": {
        "id": "SqzmojuLT_xg"
      },
      "source": [
        "TotalCharges Outlier Analysis"
      ]
    },
    {
      "cell_type": "code",
      "metadata": {
        "colab": {
          "base_uri": "https://localhost:8080/",
          "height": 501
        },
        "id": "1kUNUpIXT_Ae",
        "outputId": "c7751e09-56b3-4cf7-e944-da9fe31b66ac"
      },
      "source": [
        "df['TotalCharges'].plot(kind='box',figsize=(10,8))\n",
        "plt.title(\"TotalCharges Boxplot\")\n",
        "plt.show()"
      ],
      "execution_count": null,
      "outputs": [
        {
          "output_type": "display_data",
          "data": {
            "image/png": "[encoded data removed]",
            "text/plain": [
              "<Figure size 720x576 with 1 Axes>"
            ]
          },
          "metadata": {}
        }
      ]
    },
    {
      "cell_type": "markdown",
      "metadata": {
        "id": "rDTQG66f9aGO"
      },
      "source": [
        "Services Analysis"
      ]
    },
    {
      "cell_type": "code",
      "metadata": {
        "colab": {
          "base_uri": "https://localhost:8080/",
          "height": 206
        },
        "id": "RvWJ3Qy1-5_6",
        "outputId": "627f78fb-476c-4029-c9e3-bff220af3880"
      },
      "source": [
        "df.groupby(['InternetService'])[['Churn']].agg({'count','mean'})"
      ],
      "execution_count": null,
      "outputs": [
        {
          "output_type": "execute_result",
          "data": {
            "text/html": [
              "<div>\n",
              "<style scoped>\n",
              "    .dataframe tbody tr th:only-of-type {\n",
              "        vertical-align: middle;\n",
              "    }\n",
              "\n",
              "    .dataframe tbody tr th {\n",
              "        vertical-align: top;\n",
              "    }\n",
              "\n",
              "    .dataframe thead tr th {\n",
              "        text-align: left;\n",
              "    }\n",
              "\n",
              "    .dataframe thead tr:last-of-type th {\n",
              "        text-align: right;\n",
              "    }\n",
              "</style>\n",
              "<table border=\"1\" class=\"dataframe\">\n",
              "  <thead>\n",
              "    <tr>\n",
              "      <th></th>\n",
              "      <th colspan=\"2\" halign=\"left\">Churn</th>\n",
              "    </tr>\n",
              "    <tr>\n",
              "      <th></th>\n",
              "      <th>mean</th>\n",
              "      <th>count</th>\n",
              "    </tr>\n",
              "    <tr>\n",
              "      <th>InternetService</th>\n",
              "      <th></th>\n",
              "      <th></th>\n",
              "    </tr>\n",
              "  </thead>\n",
              "  <tbody>\n",
              "    <tr>\n",
              "      <th>0</th>\n",
              "      <td>0.074050</td>\n",
              "      <td>1526</td>\n",
              "    </tr>\n",
              "    <tr>\n",
              "      <th>1</th>\n",
              "      <td>0.189591</td>\n",
              "      <td>2421</td>\n",
              "    </tr>\n",
              "    <tr>\n",
              "      <th>2</th>\n",
              "      <td>0.418928</td>\n",
              "      <td>3096</td>\n",
              "    </tr>\n",
              "  </tbody>\n",
              "</table>\n",
              "</div>"
            ],
            "text/plain": [
              "                    Churn      \n",
              "                     mean count\n",
              "InternetService                \n",
              "0                0.074050  1526\n",
              "1                0.189591  2421\n",
              "2                0.418928  3096"
            ]
          },
          "metadata": {},
          "execution_count": 134
        }
      ]
    },
    {
      "cell_type": "code",
      "metadata": {
        "id": "3ZWNef8t2xUo"
      },
      "source": [
        "df_services_analysis = df.copy()\n",
        "df_services_analysis['services'] = df_services_analysis.apply(lambda x: 'OS' if x['OnlineSecurity']==1 else\n",
        "                                                    'OB' if x['OnlineBackup']==1 else\n",
        "                                                    'DP' if x['DeviceProtection']==1 else\n",
        "                                                    'TS' if x['TechSupport']==1 else\n",
        "                                                    'ST' if x['StreamingTV']==1 else\n",
        "                                                    'SM'\n",
        "                                        ,axis=1)"
      ],
      "execution_count": null,
      "outputs": []
    },
    {
      "cell_type": "code",
      "metadata": {
        "colab": {
          "base_uri": "https://localhost:8080/",
          "height": 300
        },
        "id": "OXGdk-fJB9Hh",
        "outputId": "926e0aa7-ee7f-4532-85da-42308211f57f"
      },
      "source": [
        "df_services_analysis.groupby(['services'])[['Churn']].agg({'count','mean'})"
      ],
      "execution_count": null,
      "outputs": [
        {
          "output_type": "execute_result",
          "data": {
            "text/html": [
              "<div>\n",
              "<style scoped>\n",
              "    .dataframe tbody tr th:only-of-type {\n",
              "        vertical-align: middle;\n",
              "    }\n",
              "\n",
              "    .dataframe tbody tr th {\n",
              "        vertical-align: top;\n",
              "    }\n",
              "\n",
              "    .dataframe thead tr th {\n",
              "        text-align: left;\n",
              "    }\n",
              "\n",
              "    .dataframe thead tr:last-of-type th {\n",
              "        text-align: right;\n",
              "    }\n",
              "</style>\n",
              "<table border=\"1\" class=\"dataframe\">\n",
              "  <thead>\n",
              "    <tr>\n",
              "      <th></th>\n",
              "      <th colspan=\"2\" halign=\"left\">Churn</th>\n",
              "    </tr>\n",
              "    <tr>\n",
              "      <th></th>\n",
              "      <th>mean</th>\n",
              "      <th>count</th>\n",
              "    </tr>\n",
              "    <tr>\n",
              "      <th>services</th>\n",
              "      <th></th>\n",
              "      <th></th>\n",
              "    </tr>\n",
              "  </thead>\n",
              "  <tbody>\n",
              "    <tr>\n",
              "      <th>DP</th>\n",
              "      <td>0.384840</td>\n",
              "      <td>686</td>\n",
              "    </tr>\n",
              "    <tr>\n",
              "      <th>OB</th>\n",
              "      <td>0.310054</td>\n",
              "      <td>1303</td>\n",
              "    </tr>\n",
              "    <tr>\n",
              "      <th>OS</th>\n",
              "      <td>0.146112</td>\n",
              "      <td>2019</td>\n",
              "    </tr>\n",
              "    <tr>\n",
              "      <th>SM</th>\n",
              "      <td>0.247504</td>\n",
              "      <td>2404</td>\n",
              "    </tr>\n",
              "    <tr>\n",
              "      <th>ST</th>\n",
              "      <td>0.606684</td>\n",
              "      <td>389</td>\n",
              "    </tr>\n",
              "    <tr>\n",
              "      <th>TS</th>\n",
              "      <td>0.309917</td>\n",
              "      <td>242</td>\n",
              "    </tr>\n",
              "  </tbody>\n",
              "</table>\n",
              "</div>"
            ],
            "text/plain": [
              "             Churn      \n",
              "              mean count\n",
              "services                \n",
              "DP        0.384840   686\n",
              "OB        0.310054  1303\n",
              "OS        0.146112  2019\n",
              "SM        0.247504  2404\n",
              "ST        0.606684   389\n",
              "TS        0.309917   242"
            ]
          },
          "metadata": {},
          "execution_count": 143
        }
      ]
    },
    {
      "cell_type": "markdown",
      "metadata": {
        "id": "cyZd1loWEkoE"
      },
      "source": [
        "Demographic Analysis"
      ]
    },
    {
      "cell_type": "code",
      "metadata": {
        "colab": {
          "base_uri": "https://localhost:8080/",
          "height": 238
        },
        "id": "g83io6XiB9Q9",
        "outputId": "0ffd78db-1862-48ee-a17e-523c6181010f"
      },
      "source": [
        "df.groupby(['SeniorCitizen','Partner'])[['Churn']].agg({'count','mean'})"
      ],
      "execution_count": null,
      "outputs": [
        {
          "output_type": "execute_result",
          "data": {
            "text/html": [
              "<div>\n",
              "<style scoped>\n",
              "    .dataframe tbody tr th:only-of-type {\n",
              "        vertical-align: middle;\n",
              "    }\n",
              "\n",
              "    .dataframe tbody tr th {\n",
              "        vertical-align: top;\n",
              "    }\n",
              "\n",
              "    .dataframe thead tr th {\n",
              "        text-align: left;\n",
              "    }\n",
              "\n",
              "    .dataframe thead tr:last-of-type th {\n",
              "        text-align: right;\n",
              "    }\n",
              "</style>\n",
              "<table border=\"1\" class=\"dataframe\">\n",
              "  <thead>\n",
              "    <tr>\n",
              "      <th></th>\n",
              "      <th></th>\n",
              "      <th colspan=\"2\" halign=\"left\">Churn</th>\n",
              "    </tr>\n",
              "    <tr>\n",
              "      <th></th>\n",
              "      <th></th>\n",
              "      <th>mean</th>\n",
              "      <th>count</th>\n",
              "    </tr>\n",
              "    <tr>\n",
              "      <th>SeniorCitizen</th>\n",
              "      <th>Partner</th>\n",
              "      <th></th>\n",
              "      <th></th>\n",
              "    </tr>\n",
              "  </thead>\n",
              "  <tbody>\n",
              "    <tr>\n",
              "      <th rowspan=\"2\" valign=\"top\">0</th>\n",
              "      <th>0</th>\n",
              "      <td>0.300130</td>\n",
              "      <td>3072</td>\n",
              "    </tr>\n",
              "    <tr>\n",
              "      <th>1</th>\n",
              "      <td>0.166490</td>\n",
              "      <td>2829</td>\n",
              "    </tr>\n",
              "    <tr>\n",
              "      <th rowspan=\"2\" valign=\"top\">1</th>\n",
              "      <th>0</th>\n",
              "      <td>0.488576</td>\n",
              "      <td>569</td>\n",
              "    </tr>\n",
              "    <tr>\n",
              "      <th>1</th>\n",
              "      <td>0.345550</td>\n",
              "      <td>573</td>\n",
              "    </tr>\n",
              "  </tbody>\n",
              "</table>\n",
              "</div>"
            ],
            "text/plain": [
              "                          Churn      \n",
              "                           mean count\n",
              "SeniorCitizen Partner                \n",
              "0             0        0.300130  3072\n",
              "              1        0.166490  2829\n",
              "1             0        0.488576   569\n",
              "              1        0.345550   573"
            ]
          },
          "metadata": {},
          "execution_count": 148
        }
      ]
    },
    {
      "cell_type": "code",
      "metadata": {
        "colab": {
          "base_uri": "https://localhost:8080/",
          "height": 238
        },
        "id": "n5Gq92t5EDjS",
        "outputId": "404647da-11e2-41d8-cc13-db19ac596ac6"
      },
      "source": [
        "df.groupby(['SeniorCitizen','Dependents'])[['Churn']].agg({'count','mean'})"
      ],
      "execution_count": null,
      "outputs": [
        {
          "output_type": "execute_result",
          "data": {
            "text/html": [
              "<div>\n",
              "<style scoped>\n",
              "    .dataframe tbody tr th:only-of-type {\n",
              "        vertical-align: middle;\n",
              "    }\n",
              "\n",
              "    .dataframe tbody tr th {\n",
              "        vertical-align: top;\n",
              "    }\n",
              "\n",
              "    .dataframe thead tr th {\n",
              "        text-align: left;\n",
              "    }\n",
              "\n",
              "    .dataframe thead tr:last-of-type th {\n",
              "        text-align: right;\n",
              "    }\n",
              "</style>\n",
              "<table border=\"1\" class=\"dataframe\">\n",
              "  <thead>\n",
              "    <tr>\n",
              "      <th></th>\n",
              "      <th></th>\n",
              "      <th colspan=\"2\" halign=\"left\">Churn</th>\n",
              "    </tr>\n",
              "    <tr>\n",
              "      <th></th>\n",
              "      <th></th>\n",
              "      <th>mean</th>\n",
              "      <th>count</th>\n",
              "    </tr>\n",
              "    <tr>\n",
              "      <th>SeniorCitizen</th>\n",
              "      <th>Dependents</th>\n",
              "      <th></th>\n",
              "      <th></th>\n",
              "    </tr>\n",
              "  </thead>\n",
              "  <tbody>\n",
              "    <tr>\n",
              "      <th rowspan=\"2\" valign=\"top\">0</th>\n",
              "      <th>0</th>\n",
              "      <td>0.280526</td>\n",
              "      <td>3882</td>\n",
              "    </tr>\n",
              "    <tr>\n",
              "      <th>1</th>\n",
              "      <td>0.150570</td>\n",
              "      <td>2019</td>\n",
              "    </tr>\n",
              "    <tr>\n",
              "      <th rowspan=\"2\" valign=\"top\">1</th>\n",
              "      <th>0</th>\n",
              "      <td>0.431970</td>\n",
              "      <td>1051</td>\n",
              "    </tr>\n",
              "    <tr>\n",
              "      <th>1</th>\n",
              "      <td>0.241758</td>\n",
              "      <td>91</td>\n",
              "    </tr>\n",
              "  </tbody>\n",
              "</table>\n",
              "</div>"
            ],
            "text/plain": [
              "                             Churn      \n",
              "                              mean count\n",
              "SeniorCitizen Dependents                \n",
              "0             0           0.280526  3882\n",
              "              1           0.150570  2019\n",
              "1             0           0.431970  1051\n",
              "              1           0.241758    91"
            ]
          },
          "metadata": {},
          "execution_count": 149
        }
      ]
    },
    {
      "cell_type": "markdown",
      "metadata": {
        "id": "1B1zHK73FTbf"
      },
      "source": [
        "Customer Account Analysis"
      ]
    },
    {
      "cell_type": "code",
      "metadata": {
        "colab": {
          "base_uri": "https://localhost:8080/",
          "height": 206
        },
        "id": "4-HUo9t4FWby",
        "outputId": "db47abca-32b0-44f7-cd4d-b40c3cc4f99c"
      },
      "source": [
        "df_services_analysis.groupby(['Contract'])[['Churn']].agg({'count','mean'})"
      ],
      "execution_count": null,
      "outputs": [
        {
          "output_type": "execute_result",
          "data": {
            "text/html": [
              "<div>\n",
              "<style scoped>\n",
              "    .dataframe tbody tr th:only-of-type {\n",
              "        vertical-align: middle;\n",
              "    }\n",
              "\n",
              "    .dataframe tbody tr th {\n",
              "        vertical-align: top;\n",
              "    }\n",
              "\n",
              "    .dataframe thead tr th {\n",
              "        text-align: left;\n",
              "    }\n",
              "\n",
              "    .dataframe thead tr:last-of-type th {\n",
              "        text-align: right;\n",
              "    }\n",
              "</style>\n",
              "<table border=\"1\" class=\"dataframe\">\n",
              "  <thead>\n",
              "    <tr>\n",
              "      <th></th>\n",
              "      <th colspan=\"2\" halign=\"left\">Churn</th>\n",
              "    </tr>\n",
              "    <tr>\n",
              "      <th></th>\n",
              "      <th>mean</th>\n",
              "      <th>count</th>\n",
              "    </tr>\n",
              "    <tr>\n",
              "      <th>Contract</th>\n",
              "      <th></th>\n",
              "      <th></th>\n",
              "    </tr>\n",
              "  </thead>\n",
              "  <tbody>\n",
              "    <tr>\n",
              "      <th>0</th>\n",
              "      <td>0.427097</td>\n",
              "      <td>3875</td>\n",
              "    </tr>\n",
              "    <tr>\n",
              "      <th>1</th>\n",
              "      <td>0.112695</td>\n",
              "      <td>1473</td>\n",
              "    </tr>\n",
              "    <tr>\n",
              "      <th>2</th>\n",
              "      <td>0.028319</td>\n",
              "      <td>1695</td>\n",
              "    </tr>\n",
              "  </tbody>\n",
              "</table>\n",
              "</div>"
            ],
            "text/plain": [
              "             Churn      \n",
              "              mean count\n",
              "Contract                \n",
              "0         0.427097  3875\n",
              "1         0.112695  1473\n",
              "2         0.028319  1695"
            ]
          },
          "metadata": {},
          "execution_count": 150
        }
      ]
    },
    {
      "cell_type": "code",
      "metadata": {
        "colab": {
          "base_uri": "https://localhost:8080/",
          "height": 363
        },
        "id": "Jx13eNg0Ftyk",
        "outputId": "7d34ae1d-b7ef-44af-a9be-6eeb4f96d386"
      },
      "source": [
        "df_services_analysis.groupby(['PaperlessBilling','PaymentMethod'])[['Churn']].agg({'count','mean'})"
      ],
      "execution_count": null,
      "outputs": [
        {
          "output_type": "execute_result",
          "data": {
            "text/html": [
              "<div>\n",
              "<style scoped>\n",
              "    .dataframe tbody tr th:only-of-type {\n",
              "        vertical-align: middle;\n",
              "    }\n",
              "\n",
              "    .dataframe tbody tr th {\n",
              "        vertical-align: top;\n",
              "    }\n",
              "\n",
              "    .dataframe thead tr th {\n",
              "        text-align: left;\n",
              "    }\n",
              "\n",
              "    .dataframe thead tr:last-of-type th {\n",
              "        text-align: right;\n",
              "    }\n",
              "</style>\n",
              "<table border=\"1\" class=\"dataframe\">\n",
              "  <thead>\n",
              "    <tr>\n",
              "      <th></th>\n",
              "      <th></th>\n",
              "      <th colspan=\"2\" halign=\"left\">Churn</th>\n",
              "    </tr>\n",
              "    <tr>\n",
              "      <th></th>\n",
              "      <th></th>\n",
              "      <th>mean</th>\n",
              "      <th>count</th>\n",
              "    </tr>\n",
              "    <tr>\n",
              "      <th>PaperlessBilling</th>\n",
              "      <th>PaymentMethod</th>\n",
              "      <th></th>\n",
              "      <th></th>\n",
              "    </tr>\n",
              "  </thead>\n",
              "  <tbody>\n",
              "    <tr>\n",
              "      <th rowspan=\"4\" valign=\"top\">0</th>\n",
              "      <th>0</th>\n",
              "      <td>0.327448</td>\n",
              "      <td>623</td>\n",
              "    </tr>\n",
              "    <tr>\n",
              "      <th>1</th>\n",
              "      <td>0.134937</td>\n",
              "      <td>956</td>\n",
              "    </tr>\n",
              "    <tr>\n",
              "      <th>2</th>\n",
              "      <td>0.110260</td>\n",
              "      <td>653</td>\n",
              "    </tr>\n",
              "    <tr>\n",
              "      <th>3</th>\n",
              "      <td>0.100000</td>\n",
              "      <td>640</td>\n",
              "    </tr>\n",
              "    <tr>\n",
              "      <th rowspan=\"4\" valign=\"top\">1</th>\n",
              "      <th>0</th>\n",
              "      <td>0.497704</td>\n",
              "      <td>1742</td>\n",
              "    </tr>\n",
              "    <tr>\n",
              "      <th>1</th>\n",
              "      <td>0.272866</td>\n",
              "      <td>656</td>\n",
              "    </tr>\n",
              "    <tr>\n",
              "      <th>2</th>\n",
              "      <td>0.208754</td>\n",
              "      <td>891</td>\n",
              "    </tr>\n",
              "    <tr>\n",
              "      <th>3</th>\n",
              "      <td>0.190476</td>\n",
              "      <td>882</td>\n",
              "    </tr>\n",
              "  </tbody>\n",
              "</table>\n",
              "</div>"
            ],
            "text/plain": [
              "                                   Churn      \n",
              "                                    mean count\n",
              "PaperlessBilling PaymentMethod                \n",
              "0                0              0.327448   623\n",
              "                 1              0.134937   956\n",
              "                 2              0.110260   653\n",
              "                 3              0.100000   640\n",
              "1                0              0.497704  1742\n",
              "                 1              0.272866   656\n",
              "                 2              0.208754   891\n",
              "                 3              0.190476   882"
            ]
          },
          "metadata": {},
          "execution_count": 153
        }
      ]
    }
  ]
}